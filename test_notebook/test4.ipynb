{
 "cells": [
  {
   "cell_type": "code",
   "execution_count": 1,
   "metadata": {},
   "outputs": [],
   "source": [
    "import numpy as np\n",
    "import pandas as pd"
   ]
  },
  {
   "cell_type": "code",
   "execution_count": 2,
   "metadata": {},
   "outputs": [],
   "source": [
    "hrv_df = pd.read_csv('./hrv_events_df.csv')\n",
    "hrv_df.drop('Unnamed: 0', axis=1, inplace=True)\n",
    "hrv_df = pd.DataFrame(hrv_df)\n",
    "\n",
    "hr_df = pd.read_csv('./hr_events_df.csv')\n",
    "hr_df.drop('Unnamed: 0', axis=1, inplace=True)\n",
    "hr_df = pd.DataFrame(hr_df)\n",
    "\n",
    "acc_df = pd.read_csv('./acc_events_df.csv')\n",
    "acc_df.drop('Unnamed: 0', axis=1, inplace=True)\n",
    "acc_df = pd.DataFrame(acc_df)\n",
    "\n",
    "eda_phasic_df = pd.read_csv('./eda_phasic_df.csv')\n",
    "eda_phasic_df.drop('Unnamed: 0', axis=1, inplace=True)\n",
    "eda_phasic_df = pd.DataFrame(eda_phasic_df)\n",
    "\n",
    "eda_tonic_df = pd.read_csv('./eda_tonic_df.csv')\n",
    "eda_tonic_df.drop('Unnamed: 0', axis=1, inplace=True)\n",
    "eda_tonic_df = pd.DataFrame(eda_tonic_df)\n"
   ]
  },
  {
   "cell_type": "code",
   "execution_count": 21,
   "metadata": {},
   "outputs": [],
   "source": [
    "Corrected_overlapped_events = pd.DataFrame(columns=['Starting Timestamp', 'Ending Timestamp'])\n",
    "def check_overlap(feature_1, feature_2):\n",
    "    k = 0\n",
    "    for i in range(len(feature_1)):\n",
    "        for j in range(len(feature_2)):    \n",
    "            print(feature_1)\n",
    "            print(feature_2)\n",
    "            delta_a = feature_1['Ending Timestamp'][i] - feature_1['Starting Timestamp'][i]\n",
    "            print(\"Delta A = \", delta_a)\n",
    "            delta_b = feature_2['Ending Timestamp'][j] - feature_2['Starting Timestamp'][j]\n",
    "            # print(\"Delta B = \", delta_b)\n",
    "            c1 = min(feature_1['Starting Timestamp'][i], feature_2['Starting Timestamp'][j])\n",
    "            # print(\"C1 \", c1)\n",
    "            c2 = max(feature_2['Ending Timestamp'][j], feature_1['Ending Timestamp'][i])\n",
    "            # print(\"C2 \", c2)\n",
    "            Dc = c2-c1\n",
    "            if ((delta_a+delta_b) > Dc):\n",
    "                # print(i, j)\n",
    "                # overlapped_events['Starting Timestamp'] = overlapped_events['Starting Timestamp'].append(pd.DataFrame(c1))\n",
    "                Corrected_overlapped_events.at[k, 'Starting Timestamp'] = c1\n",
    "                Corrected_overlapped_events.at[k, 'Ending Timestamp'] = c2\n",
    "                feature_1['Starting Timestamp'][i] = None\n",
    "                feature_1['Ending Timestamp'][i] = None\n",
    "                feature_2['Starting Timestamp'][j] = None\n",
    "                feature_2['Ending Timestamp'][j] = None\n",
    "                k += 1"
   ]
  },
  {
   "cell_type": "code",
   "execution_count": 24,
   "metadata": {},
   "outputs": [
    {
     "name": "stdout",
     "output_type": "stream",
     "text": [
      "           Starting Timestamp           Ending Timestamp\n",
      "0   2021-06-20 11:47:43+00:00  2021-06-20 11:59:36+00:00\n",
      "1   2021-06-20 11:59:36+00:00  2021-06-20 13:43:43+00:00\n",
      "2   2021-06-20 15:18:55+00:00  2021-06-20 15:55:02+00:00\n",
      "3   2021-06-20 17:31:03+00:00  2021-06-20 17:42:17+00:00\n",
      "4   2021-06-20 18:02:59+00:00  2021-06-20 18:47:41+00:00\n",
      "5   2021-06-20 18:47:41+00:00  2021-06-20 18:59:55+00:00\n",
      "6   2021-06-20 20:11:57+00:00  2021-06-20 20:35:58+00:00\n",
      "7   2021-06-20 20:35:58+00:00  2021-06-20 20:49:19+00:00\n",
      "8   2021-06-20 21:03:01+00:00  2021-06-20 21:08:38+00:00\n",
      "9   2021-06-20 21:21:02+00:00  2021-06-20 21:30:12+00:00\n",
      "10  2021-06-20 21:50:36+00:00  2021-06-20 21:57:10+00:00\n",
      "11  2021-06-20 21:57:10+00:00  2021-06-20 22:09:36+00:00\n",
      "12  2021-06-20 22:34:16+00:00  2021-06-20 22:40:20+00:00\n",
      "13  2021-06-20 23:00:55+00:00  2021-06-20 23:38:12+00:00\n",
      "14  2021-06-20 23:38:12+00:00  2021-06-21 00:52:07+00:00\n",
      "15  2021-06-21 01:22:59+00:00  2021-06-21 01:30:14+00:00\n",
      "                  Starting Timestamp                  Ending Timestamp\n",
      "0   2021-06-20 12:18:18.968750+00:00  2021-06-20 12:26:37.562500+00:00\n",
      "1   2021-06-20 12:36:54.281250+00:00  2021-06-20 12:44:22.906250+00:00\n",
      "2   2021-06-20 13:14:18.156250+00:00  2021-06-20 13:19:32.375000+00:00\n",
      "3   2021-06-20 15:18:38.968750+00:00  2021-06-20 15:24:36.031250+00:00\n",
      "4   2021-06-20 19:12:15.625000+00:00  2021-06-20 19:19:32.656250+00:00\n",
      "5   2021-06-20 19:33:54.593750+00:00  2021-06-20 19:40:22.406250+00:00\n",
      "6   2021-06-20 19:45:03.062500+00:00  2021-06-20 19:51:56.656250+00:00\n",
      "7   2021-06-20 23:03:17.625000+00:00  2021-06-20 23:11:22.125000+00:00\n",
      "8   2021-06-20 23:11:48.562500+00:00  2021-06-20 23:30:49.125000+00:00\n",
      "9   2021-06-20 23:54:21.781250+00:00  2021-06-21 00:00:42.843750+00:00\n",
      "10  2021-06-21 00:27:33.718750+00:00  2021-06-21 00:32:53.781250+00:00\n"
     ]
    },
    {
     "ename": "TypeError",
     "evalue": "unsupported operand type(s) for -: 'str' and 'str'",
     "output_type": "error",
     "traceback": [
      "\u001b[1;31m---------------------------------------------------------------------------\u001b[0m",
      "\u001b[1;31mTypeError\u001b[0m                                 Traceback (most recent call last)",
      "\u001b[1;32m~\\AppData\\Local\\Temp/ipykernel_6496/3377896160.py\u001b[0m in \u001b[0;36m<module>\u001b[1;34m\u001b[0m\n\u001b[1;32m----> 1\u001b[1;33m \u001b[0mcheck_overlap\u001b[0m\u001b[1;33m(\u001b[0m\u001b[0mhr_df\u001b[0m\u001b[1;33m,\u001b[0m \u001b[0macc_df\u001b[0m\u001b[1;33m)\u001b[0m\u001b[1;33m\u001b[0m\u001b[1;33m\u001b[0m\u001b[0m\n\u001b[0m",
      "\u001b[1;32m~\\AppData\\Local\\Temp/ipykernel_6496/3767843673.py\u001b[0m in \u001b[0;36mcheck_overlap\u001b[1;34m(feature_1, feature_2)\u001b[0m\n\u001b[0;32m      6\u001b[0m             \u001b[0mprint\u001b[0m\u001b[1;33m(\u001b[0m\u001b[0mfeature_1\u001b[0m\u001b[1;33m)\u001b[0m\u001b[1;33m\u001b[0m\u001b[1;33m\u001b[0m\u001b[0m\n\u001b[0;32m      7\u001b[0m             \u001b[0mprint\u001b[0m\u001b[1;33m(\u001b[0m\u001b[0mfeature_2\u001b[0m\u001b[1;33m)\u001b[0m\u001b[1;33m\u001b[0m\u001b[1;33m\u001b[0m\u001b[0m\n\u001b[1;32m----> 8\u001b[1;33m             \u001b[0mdelta_a\u001b[0m \u001b[1;33m=\u001b[0m \u001b[0mfeature_1\u001b[0m\u001b[1;33m[\u001b[0m\u001b[1;34m'Ending Timestamp'\u001b[0m\u001b[1;33m]\u001b[0m\u001b[1;33m[\u001b[0m\u001b[0mi\u001b[0m\u001b[1;33m]\u001b[0m \u001b[1;33m-\u001b[0m \u001b[0mfeature_1\u001b[0m\u001b[1;33m[\u001b[0m\u001b[1;34m'Starting Timestamp'\u001b[0m\u001b[1;33m]\u001b[0m\u001b[1;33m[\u001b[0m\u001b[0mi\u001b[0m\u001b[1;33m]\u001b[0m\u001b[1;33m\u001b[0m\u001b[1;33m\u001b[0m\u001b[0m\n\u001b[0m\u001b[0;32m      9\u001b[0m             \u001b[0mprint\u001b[0m\u001b[1;33m(\u001b[0m\u001b[1;34m\"Delta A = \"\u001b[0m\u001b[1;33m,\u001b[0m \u001b[0mdelta_a\u001b[0m\u001b[1;33m)\u001b[0m\u001b[1;33m\u001b[0m\u001b[1;33m\u001b[0m\u001b[0m\n\u001b[0;32m     10\u001b[0m             \u001b[0mdelta_b\u001b[0m \u001b[1;33m=\u001b[0m \u001b[0mfeature_2\u001b[0m\u001b[1;33m[\u001b[0m\u001b[1;34m'Ending Timestamp'\u001b[0m\u001b[1;33m]\u001b[0m\u001b[1;33m[\u001b[0m\u001b[0mj\u001b[0m\u001b[1;33m]\u001b[0m \u001b[1;33m-\u001b[0m \u001b[0mfeature_2\u001b[0m\u001b[1;33m[\u001b[0m\u001b[1;34m'Starting Timestamp'\u001b[0m\u001b[1;33m]\u001b[0m\u001b[1;33m[\u001b[0m\u001b[0mj\u001b[0m\u001b[1;33m]\u001b[0m\u001b[1;33m\u001b[0m\u001b[1;33m\u001b[0m\u001b[0m\n",
      "\u001b[1;31mTypeError\u001b[0m: unsupported operand type(s) for -: 'str' and 'str'"
     ]
    }
   ],
   "source": [
    "check_overlap(hr_df, acc_df)\n"
   ]
  },
  {
   "cell_type": "code",
   "execution_count": 3,
   "metadata": {},
   "outputs": [
    {
     "data": {
      "text/plain": [
       "'2021-06-20 13:20:09+00:00'"
      ]
     },
     "execution_count": 3,
     "metadata": {},
     "output_type": "execute_result"
    }
   ],
   "source": [
    "hrv_df['Starting Timestamp'][1]"
   ]
  },
  {
   "cell_type": "code",
   "execution_count": 6,
   "metadata": {},
   "outputs": [
    {
     "ename": "TypeError",
     "evalue": "descriptor 'timestamp' for 'datetime.datetime' objects doesn't apply to a 'str' object",
     "output_type": "error",
     "traceback": [
      "\u001b[1;31m---------------------------------------------------------------------------\u001b[0m",
      "\u001b[1;31mTypeError\u001b[0m                                 Traceback (most recent call last)",
      "\u001b[1;32m~\\AppData\\Local\\Temp/ipykernel_18600/1184656028.py\u001b[0m in \u001b[0;36m<module>\u001b[1;34m\u001b[0m\n\u001b[0;32m      2\u001b[0m \u001b[1;32mimport\u001b[0m \u001b[0mdatetime\u001b[0m\u001b[1;33m\u001b[0m\u001b[1;33m\u001b[0m\u001b[0m\n\u001b[0;32m      3\u001b[0m \u001b[1;33m\u001b[0m\u001b[0m\n\u001b[1;32m----> 4\u001b[1;33m \u001b[0mdatetime\u001b[0m\u001b[1;33m.\u001b[0m\u001b[0mdatetime\u001b[0m\u001b[1;33m.\u001b[0m\u001b[0mtimestamp\u001b[0m\u001b[1;33m(\u001b[0m\u001b[0mhrv_df\u001b[0m\u001b[1;33m[\u001b[0m\u001b[1;34m'Starting Timestamp'\u001b[0m\u001b[1;33m]\u001b[0m\u001b[1;33m[\u001b[0m\u001b[1;36m1\u001b[0m\u001b[1;33m]\u001b[0m\u001b[1;33m)\u001b[0m\u001b[1;33m*\u001b[0m\u001b[1;36m1000\u001b[0m\u001b[1;33m\u001b[0m\u001b[1;33m\u001b[0m\u001b[0m\n\u001b[0m",
      "\u001b[1;31mTypeError\u001b[0m: descriptor 'timestamp' for 'datetime.datetime' objects doesn't apply to a 'str' object"
     ]
    }
   ],
   "source": [
    "import time \n",
    "import datetime\n",
    "\n",
    "datetime.datetime.timestamp(hrv_df['Starting Timestamp'][1])*1000"
   ]
  },
  {
   "cell_type": "code",
   "execution_count": null,
   "metadata": {},
   "outputs": [],
   "source": []
  }
 ],
 "metadata": {
  "interpreter": {
   "hash": "6898f2adeffe98af97a1b72d24de202e0fc9362a1c4c113efdf473103d78a803"
  },
  "kernelspec": {
   "display_name": "Python 3.9.7 64-bit",
   "language": "python",
   "name": "python3"
  },
  "language_info": {
   "codemirror_mode": {
    "name": "ipython",
    "version": 3
   },
   "file_extension": ".py",
   "mimetype": "text/x-python",
   "name": "python",
   "nbconvert_exporter": "python",
   "pygments_lexer": "ipython3",
   "version": "3.9.7"
  },
  "orig_nbformat": 4
 },
 "nbformat": 4,
 "nbformat_minor": 2
}
